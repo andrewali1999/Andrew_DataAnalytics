{
  "nbformat": 4,
  "nbformat_minor": 0,
  "metadata": {
    "colab": {
      "name": "Andrew Ali of Unit2_Mini_Project.ipynb",
      "provenance": [],
      "collapsed_sections": [],
      "include_colab_link": true
    },
    "kernelspec": {
      "name": "python3",
      "display_name": "Python 3"
    }
  },
  "cells": [
    {
      "cell_type": "markdown",
      "metadata": {
        "id": "view-in-github",
        "colab_type": "text"
      },
      "source": [
        "<a href=\"https://colab.research.google.com/github/andrewali1999/Andrew_DataAnalytics/blob/main/Andrew_Ali_of_Unit2_Mini_Project.ipynb\" target=\"_parent\"><img src=\"https://colab.research.google.com/assets/colab-badge.svg\" alt=\"Open In Colab\"/></a>"
      ]
    },
    {
      "cell_type": "markdown",
      "metadata": {
        "id": "Vgs8Kp4TidFQ"
      },
      "source": [
        "# Intrdouction to Python - Mini Project"
      ]
    },
    {
      "cell_type": "markdown",
      "metadata": {
        "id": "_Hq7Ny79iwgD"
      },
      "source": [
        "#Python Project – Odd or Even\n",
        "\n",
        "Ask the user for a number. Depending on whether the number is even or odd, print out an appropriate message to the user. Hint: how does an even / odd number react differently when divided by 2?\n"
      ]
    },
    {
      "cell_type": "code",
      "metadata": {
        "id": "lotvpVpvlKsR",
        "colab": {
          "base_uri": "https://localhost:8080/"
        },
        "outputId": "59e4b92c-ee60-4e00-f485-ea34284f543e"
      },
      "source": [
        "number = int(input('Enter a number: '))\n",
        "if int(number)/2:\n",
        "  print(str(number) + ' is an even number')\n",
        "else:\n",
        "  print(str(number) + ' is an odd number')"
      ],
      "execution_count": 33,
      "outputs": [
        {
          "output_type": "stream",
          "name": "stdout",
          "text": [
            "Enter a number: 4\n",
            "4 is an even number\n"
          ]
        }
      ]
    },
    {
      "cell_type": "code",
      "metadata": {
        "id": "lyoaBLI8nvRT"
      },
      "source": [
        ""
      ],
      "execution_count": null,
      "outputs": []
    },
    {
      "cell_type": "code",
      "metadata": {
        "id": "TuD1O2R0nvTd"
      },
      "source": [
        ""
      ],
      "execution_count": null,
      "outputs": []
    },
    {
      "cell_type": "code",
      "metadata": {
        "id": "1uWxo8AxnvVN"
      },
      "source": [
        ""
      ],
      "execution_count": null,
      "outputs": []
    },
    {
      "cell_type": "code",
      "metadata": {
        "id": "32ld2T0onvZE"
      },
      "source": [
        ""
      ],
      "execution_count": null,
      "outputs": []
    },
    {
      "cell_type": "code",
      "metadata": {
        "id": "DGwOthAbnvaw"
      },
      "source": [
        ""
      ],
      "execution_count": null,
      "outputs": []
    },
    {
      "cell_type": "code",
      "metadata": {
        "id": "6_iDEhq5nvd8"
      },
      "source": [
        ""
      ],
      "execution_count": null,
      "outputs": []
    },
    {
      "cell_type": "markdown",
      "metadata": {
        "id": "io_27RSlizno"
      },
      "source": [
        "# Bonus:\n",
        "\n",
        "1.\tIf the number is a multiple of 4, print out a different message.\n",
        "\n",
        "2.\tAsk the user for two numbers: one number to check (call it num) and one number to divide by (check). If check divides evenly into num, tell that to the user. If not, print a different appropriate message.\n"
      ]
    },
    {
      "cell_type": "code",
      "metadata": {
        "id": "Dh1o5cAylSHB",
        "colab": {
          "base_uri": "https://localhost:8080/"
        },
        "outputId": "847d01e5-14af-4e4c-b341-108b2ea0480a"
      },
      "source": [
        "if int(number) * 4:\n",
        "  print(str(number) + ' is a multiple of 4')\n",
        "else:\n",
        "  print(str(number) + 'is not a multiple of 4')"
      ],
      "execution_count": 34,
      "outputs": [
        {
          "output_type": "stream",
          "name": "stdout",
          "text": [
            "4 is a multiple of 4\n"
          ]
        }
      ]
    },
    {
      "cell_type": "code",
      "metadata": {
        "id": "vs8ppR-wlSKL"
      },
      "source": [
        "num = input('Enter the first number: ')\n",
        "check = input('Enter the second number: ')\n",
        "\n",
        "if num/check :\n",
        "  print('The first number could be divided evenly by the second number')\n",
        "else:\n",
        "  print('The first number could not be divided evenly by the second number')"
      ],
      "execution_count": null,
      "outputs": []
    },
    {
      "cell_type": "code",
      "metadata": {
        "id": "5mkKtxzunuqc"
      },
      "source": [
        ""
      ],
      "execution_count": null,
      "outputs": []
    },
    {
      "cell_type": "code",
      "metadata": {
        "id": "rmfPnI5onutd"
      },
      "source": [
        ""
      ],
      "execution_count": null,
      "outputs": []
    },
    {
      "cell_type": "code",
      "metadata": {
        "id": "6000qDkVnuxM"
      },
      "source": [
        ""
      ],
      "execution_count": null,
      "outputs": []
    },
    {
      "cell_type": "code",
      "metadata": {
        "id": "X2X4dTbfnu0M"
      },
      "source": [
        ""
      ],
      "execution_count": null,
      "outputs": []
    }
  ]
}