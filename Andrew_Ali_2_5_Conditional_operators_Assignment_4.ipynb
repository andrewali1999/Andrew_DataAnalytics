{
  "nbformat": 4,
  "nbformat_minor": 0,
  "metadata": {
    "colab": {
      "name": "Andrew Ali 2-5 Conditional operators Assignment 4.ipynb",
      "provenance": [],
      "collapsed_sections": [],
      "include_colab_link": true
    },
    "kernelspec": {
      "name": "python3",
      "display_name": "Python 3"
    },
    "language_info": {
      "name": "python"
    }
  },
  "cells": [
    {
      "cell_type": "markdown",
      "metadata": {
        "id": "view-in-github",
        "colab_type": "text"
      },
      "source": [
        "<a href=\"https://colab.research.google.com/github/andrewali1999/Andrew_DataAnalytics/blob/main/Andrew_Ali_2_5_Conditional_operators_Assignment_4.ipynb\" target=\"_parent\"><img src=\"https://colab.research.google.com/assets/colab-badge.svg\" alt=\"Open In Colab\"/></a>"
      ]
    },
    {
      "cell_type": "markdown",
      "source": [
        "##2-5 Conditional operators and if statements\n"
      ],
      "metadata": {
        "id": "JJNI2qrwqgYB"
      }
    },
    {
      "cell_type": "markdown",
      "source": [
        "## Task 1: Admin user names\n",
        "* Make a list of 5 or more usernames, including an admin account. Imagine you are writing code that will welcome people to your application on login. Loop through the list and print your greeting.\n",
        "* If the admin account logs in, give them a special greeting.  They’re the admin, after all!\n",
        "* Other users can get the generic greeting"
      ],
      "metadata": {
        "id": "mXe7c59GqpEX"
      }
    },
    {
      "cell_type": "code",
      "execution_count": 30,
      "metadata": {
        "id": "TFOFGzWWqSNV"
      },
      "outputs": [],
      "source": [
        "usernames = ['admin123', 'tiger1999', 'andrew2001', 'yankees0213', 'laker0824']"
      ]
    },
    {
      "cell_type": "code",
      "source": [
        "for user in usernames:\n",
        "  print(user)"
      ],
      "metadata": {
        "colab": {
          "base_uri": "https://localhost:8080/"
        },
        "id": "aDiKBZP-GU60",
        "outputId": "cca1e2fa-1b72-4734-cbad-b9985e29b7e2"
      },
      "execution_count": 31,
      "outputs": [
        {
          "output_type": "stream",
          "name": "stdout",
          "text": [
            "admin123\n",
            "tiger1999\n",
            "andrew2001\n",
            "yankees0213\n",
            "laker0824\n"
          ]
        }
      ]
    },
    {
      "cell_type": "code",
      "source": [
        "for user in usernames:\n",
        "  if user == 'admin123':\n",
        "    print('Welcome Admin')\n",
        "  else:\n",
        "    print('Hello')"
      ],
      "metadata": {
        "id": "j3Hr_Lv7qw0I",
        "colab": {
          "base_uri": "https://localhost:8080/"
        },
        "outputId": "68feca25-551e-419f-a0a7-96ab0280fb69"
      },
      "execution_count": null,
      "outputs": [
        {
          "output_type": "stream",
          "name": "stdout",
          "text": [
            "Welcome Admin\n",
            "Hello\n",
            "Hello\n",
            "Hello\n",
            "Hello\n"
          ]
        }
      ]
    },
    {
      "cell_type": "markdown",
      "source": [
        "##Task 2: Numbers\n",
        "\n",
        "* Store numbers 1-10 in a list\n",
        "* Loop through the list\n",
        "* Use an if-elif-else chain inside your loop to print the ordinal ending for each number – for example – 1st, 2nd, 3rd … etc."
      ],
      "metadata": {
        "id": "g3nnh2NJq9gY"
      }
    },
    {
      "cell_type": "code",
      "source": [
        "numbers = [1,2,3,4,5,6,7,8,9,10]\n",
        "\n",
        "if 1 in numbers:\n",
        "  print('1st')\n",
        "if 2 in numbers:\n",
        "  print('2nd')\n",
        "if 3 in numbers:\n",
        "  print('3rd')\n",
        "if 4 in numbers:\n",
        "  print('4th')\n",
        "if 5 in numbers:\n",
        "  print('5th')\n",
        "if 6 in numbers:\n",
        "  print('6th')\n",
        "if 7 in numbers:\n",
        "  print('7th')\n",
        "if 8 in numbers:\n",
        "  print('8th')\n",
        "if 9 in numbers:\n",
        "  print('9th')\n",
        "if 10 in numbers:\n",
        "  print('10th')"
      ],
      "metadata": {
        "colab": {
          "base_uri": "https://localhost:8080/"
        },
        "id": "_vCuXogaCFDP",
        "outputId": "78917521-c8ca-459d-b25a-7e20ee9c251d"
      },
      "execution_count": 28,
      "outputs": [
        {
          "output_type": "stream",
          "name": "stdout",
          "text": [
            "1st\n",
            "2nd\n",
            "3rd\n",
            "4th\n",
            "5th\n",
            "6th\n",
            "7th\n",
            "8th\n",
            "9th\n",
            "10th\n"
          ]
        }
      ]
    }
  ]
}